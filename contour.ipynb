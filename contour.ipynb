{
 "cells": [
  {
   "cell_type": "code",
   "execution_count": 1,
   "metadata": {},
   "outputs": [],
   "source": [
    "import cv2 as cv\n",
    "\n",
    "\n",
    "img_color = cv.imread('../image2.png')\n",
    "img_gray = cv.cvtColor(img_color, cv.COLOR_BGR2GRAY)\n",
    "ret, img_binary = cv.threshold(img_gray, 127, 300, 0)\n",
    "contours, hierarchy = cv.findContours(img_binary, cv.RETR_LIST, cv.CHAIN_APPROX_SIMPLE)\n",
    "\n"
   ]
  },
  {
   "cell_type": "code",
   "execution_count": 2,
   "metadata": {},
   "outputs": [],
   "source": [
    "\n",
    "for cnt in contours:\n",
    "    cv.drawContours(img_color, [cnt], 0, (0, 255, 255), 3)  # blue\n",
    "\n",
    "cv.imshow(\"result\", img_color)\n",
    "\n",
    "cv.waitKey(0)\n",
    "\n",
    "\n",
    "\n",
    "for cnt in contours:\n",
    "\n",
    "    area = cv.contourArea(cnt)\n",
    "\n",
    "    print(area)\n",
    "\n",
    "\n",
    "cv.imshow(\"result\", img_color)"
   ]
  },
  {
   "cell_type": "code",
   "execution_count": null,
   "metadata": {},
   "outputs": [],
   "source": []
  }
 ],
 "metadata": {
  "interpreter": {
   "hash": "444051f4cbeb30788a1c5e843157658e2e4a6604689684c784b878d4030781f1"
  },
  "kernelspec": {
   "display_name": "Python 3.8.12 64-bit ('mask_rcnn_ver2': conda)",
   "name": "python3"
  },
  "language_info": {
   "codemirror_mode": {
    "name": "ipython",
    "version": 3
   },
   "file_extension": ".py",
   "mimetype": "text/x-python",
   "name": "python",
   "nbconvert_exporter": "python",
   "pygments_lexer": "ipython3",
   "version": "3.8.12"
  },
  "orig_nbformat": 4
 },
 "nbformat": 4,
 "nbformat_minor": 2
}
